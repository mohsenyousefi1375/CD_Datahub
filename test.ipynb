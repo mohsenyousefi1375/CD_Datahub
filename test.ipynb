{
 "cells": [
  {
   "cell_type": "code",
   "execution_count": 1,
   "metadata": {},
   "outputs": [],
   "source": [
    "import yaml\n",
    "\n",
    "with open(\"Contract.yaml\") as stream:\n",
    "     data = yaml.safe_load(stream)"
   ]
  },
  {
   "cell_type": "code",
   "execution_count": 2,
   "metadata": {},
   "outputs": [
    {
     "data": {
      "text/plain": [
       "'PROD'"
      ]
     },
     "execution_count": 2,
     "metadata": {},
     "output_type": "execute_result"
    }
   ],
   "source": [
    "data[\"dataset\"][\"environment\"]"
   ]
  },
  {
   "cell_type": "code",
   "execution_count": 3,
   "metadata": {},
   "outputs": [],
   "source": [
    "from Utils import add_data_set, extract_fileds_list\n",
    "\n",
    "fields = extract_fileds_list( data)"
   ]
  },
  {
   "cell_type": "code",
   "execution_count": 4,
   "metadata": {},
   "outputs": [],
   "source": [
    "# Inlined from /metadata-ingestion/examples/library/dataset_schema.py\n",
    "# Imports for urn construction utility methods\n",
    "from datahub.emitter.mce_builder import make_data_platform_urn, make_dataset_urn\n",
    "from datahub.emitter.mcp import MetadataChangeProposalWrapper\n",
    "from datahub.emitter.rest_emitter import DatahubRestEmitter\n",
    "\n",
    "# Imports for metadata model classes\n",
    "from datahub.metadata.schema_classes import (\n",
    "    AuditStampClass,\n",
    "    DateTypeClass,\n",
    "    OtherSchemaClass,\n",
    "    SchemaFieldClass,\n",
    "    SchemaFieldDataTypeClass,\n",
    "    SchemaMetadataClass,\n",
    "    StringTypeClass,\n",
    "    FixedTypeClass\n",
    ")\n",
    "\n",
    "schema_name = data[\"dataset\"][\"schemaName\"]\n",
    "platform = data[\"dataset\"][\"platform\"]\n",
    "data_set_name = data[\"dataset\"][\"schemaName\"] + '.' + data[\"dataset\"][\"tableName\"]\n",
    "environment = data[\"dataset\"][\"environment\"] \n",
    "\n",
    "event: MetadataChangeProposalWrapper = MetadataChangeProposalWrapper(\n",
    "    entityUrn=make_dataset_urn(platform=platform, name=data_set_name, env=environment),\n",
    "    aspect=SchemaMetadataClass(\n",
    "        schemaName=schema_name,  # not used\n",
    "        platform=make_data_platform_urn(platform),  # important <- platform must be an urn\n",
    "        version=0,  # when the source system has a notion of versioning of schemas, insert this in, otherwise leave as 0\n",
    "        hash=\"\",  # when the source system has a notion of unique schemas identified via hash, include a hash, else leave it as empty string\n",
    "        platformSchema=OtherSchemaClass(rawSchema=\"__insert raw schema here__\"),\n",
    "        lastModified=AuditStampClass(\n",
    "            time=1640692800000, actor=\"urn:li:corpuser:ingestion\"\n",
    "        ),\n",
    "        fields=fields,\n",
    "    ),\n",
    ")\n",
    "\n",
    "# Create rest emitter\n",
    "rest_emitter = DatahubRestEmitter(gms_server=\"http://localhost:8080\")\n",
    "rest_emitter.emit(event)\n"
   ]
  }
 ],
 "metadata": {
  "kernelspec": {
   "display_name": "datahub",
   "language": "python",
   "name": "python3"
  },
  "language_info": {
   "codemirror_mode": {
    "name": "ipython",
    "version": 3
   },
   "file_extension": ".py",
   "mimetype": "text/x-python",
   "name": "python",
   "nbconvert_exporter": "python",
   "pygments_lexer": "ipython3",
   "version": "3.12.4"
  }
 },
 "nbformat": 4,
 "nbformat_minor": 2
}
