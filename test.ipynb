{
 "cells": [
  {
   "cell_type": "code",
   "execution_count": 1,
   "metadata": {},
   "outputs": [],
   "source": [
    "import yaml\n",
    "\n",
    "with open(\"Contract.yaml\") as stream:\n",
    "     data = yaml.safe_load(stream)"
   ]
  },
  {
   "cell_type": "code",
   "execution_count": 2,
   "metadata": {},
   "outputs": [
    {
     "name": "stdout",
     "output_type": "stream",
     "text": [
      "www.test.com\n",
      "https://en.wikipedia.org/wiki/Computer\n"
     ]
    }
   ],
   "source": [
    "a = data[\"dataset\"][\"links\"]\n",
    "\n",
    "for key, value in a.items():\n",
    "    print(value[\"link\"])"
   ]
  },
  {
   "cell_type": "code",
   "execution_count": 3,
   "metadata": {},
   "outputs": [
    {
     "name": "stderr",
     "output_type": "stream",
     "text": [
      "INFO:Utils:Link www.test.com added to dataset urn:li:dataset:(urn:li:dataPlatform:mysql,127_0_0_1-3306.base_api.test9,PROD)\n",
      "INFO:Utils:Link https://en.wikipedia.org/wiki/Computer added to dataset urn:li:dataset:(urn:li:dataPlatform:mysql,127_0_0_1-3306.base_api.test9,PROD)\n"
     ]
    },
    {
     "name": "stdout",
     "output_type": "stream",
     "text": [
      "None\n"
     ]
    },
    {
     "name": "stderr",
     "output_type": "stream",
     "text": [
      "INFO:Utils:Documentation added to dataset urn:li:dataset:(urn:li:dataPlatform:mysql,127_0_0_1-3306.base_api.test9,PROD)\n"
     ]
    }
   ],
   "source": [
    "from Utils import add_dataset\n",
    "\n",
    "add_dataset(data=data)"
   ]
  },
  {
   "cell_type": "code",
   "execution_count": null,
   "metadata": {},
   "outputs": [],
   "source": [
    "# Inlined from /metadata-ingestion/examples/library/upsert_user.py\n",
    "import logging\n",
    "\n",
    "from datahub.api.entities.corpuser.corpuser import CorpUser, CorpUserGenerationConfig\n",
    "from datahub.ingestion.graph.client import DataHubGraph, DataHubGraphConfig\n",
    "\n",
    "log = logging.getLogger(__name__)\n",
    "logging.basicConfig(level=logging.INFO)\n",
    "\n",
    "user_email = \"َMohsen.Yousefi@snapp.cab\"\n",
    "\n",
    "user: CorpUser = CorpUser(\n",
    "    id=user_email,\n",
    "    display_name=\"َMohsen.Yousefi\",\n",
    "    email=user_email,\n",
    "    title=\"Software Engineer\",\n",
    "    first_name=\"َMohsen\",\n",
    "    last_name=\"Yousefi\",\n",
    "    full_name=\"Mohsen Yousefi\",\n",
    ")\n",
    "\n",
    "# Create graph client\n",
    "datahub_graph = DataHubGraph(DataHubGraphConfig(server=\"http://localhost:8080\"))\n",
    "for event in user.generate_mcp(\n",
    "    generation_config=CorpUserGenerationConfig(override_editable=False)\n",
    "):\n",
    "    datahub_graph.emit(event)\n",
    "log.info(f\"Upserted user {user.urn}\")\n"
   ]
  }
 ],
 "metadata": {
  "kernelspec": {
   "display_name": "datahub",
   "language": "python",
   "name": "python3"
  },
  "language_info": {
   "codemirror_mode": {
    "name": "ipython",
    "version": 3
   },
   "file_extension": ".py",
   "mimetype": "text/x-python",
   "name": "python",
   "nbconvert_exporter": "python",
   "pygments_lexer": "ipython3",
   "version": "3.12.4"
  }
 },
 "nbformat": 4,
 "nbformat_minor": 2
}
