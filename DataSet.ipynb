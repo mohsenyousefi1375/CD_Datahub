{
 "cells": [
  {
   "cell_type": "code",
   "execution_count": 16,
   "id": "143f2591",
   "metadata": {},
   "outputs": [],
   "source": [
    "# Inlined from /metadata-ingestion/examples/library/dataset_schema.py\n",
    "# Imports for urn construction utility methods\n",
    "from datahub.emitter.mce_builder import make_data_platform_urn, make_dataset_urn\n",
    "from datahub.emitter.mcp import MetadataChangeProposalWrapper\n",
    "from datahub.emitter.rest_emitter import DatahubRestEmitter\n",
    "\n",
    "# Imports for metadata model classes\n",
    "from datahub.metadata.schema_classes import (\n",
    "    AuditStampClass,\n",
    "    DateTypeClass,\n",
    "    OtherSchemaClass,\n",
    "    SchemaFieldClass,\n",
    "    SchemaFieldDataTypeClass,\n",
    "    SchemaMetadataClass,\n",
    "    StringTypeClass,\n",
    "    FixedTypeClass\n",
    ")\n",
    "\n",
    "event: MetadataChangeProposalWrapper = MetadataChangeProposalWrapper(\n",
    "    entityUrn=make_dataset_urn(platform=\"hive\", name=\"realestate_db.sales\", env=\"PROD\"),\n",
    "    aspect=SchemaMetadataClass(\n",
    "        schemaName=\"customer\",  # not used\n",
    "        platform=make_data_platform_urn(\"hive\"),  # important <- platform must be an urn\n",
    "        version=0,  # when the source system has a notion of versioning of schemas, insert this in, otherwise leave as 0\n",
    "        hash=\"\",  # when the source system has a notion of unique schemas identified via hash, include a hash, else leave it as empty string\n",
    "        platformSchema=OtherSchemaClass(rawSchema=\"__insert raw schema here__\"),\n",
    "        lastModified=AuditStampClass(\n",
    "            time=1640692800000, actor=\"urn:li:corpuser:ingestion\"\n",
    "        ),\n",
    "        fields=[\n",
    "            SchemaFieldClass(\n",
    "                fieldPath=\"address.zipcode\",\n",
    "                type=SchemaFieldDataTypeClass(type=FixedTypeClass()),\n",
    "                nativeDataType=\"VARCHAR(50)\",  # use this to provide the type of the field in the source system's vernacular\n",
    "                description=\"\"\"\n",
    "                This is the zipcode of the address. Specified using extended form and limited to addresses in the United States\n",
    "                definition:\n",
    "                1 = a\n",
    "                2 = b\n",
    "                3 = c\n",
    "                \"\"\",\n",
    "                lastModified=AuditStampClass(\n",
    "                    time=1640692800000, actor=\"urn:li:corpuser:ingestion\"\n",
    "                ),\n",
    "            ),\n",
    "            SchemaFieldClass(\n",
    "                fieldPath=\"address.street\",\n",
    "                type=SchemaFieldDataTypeClass(type=StringTypeClass()),\n",
    "                nativeDataType=\"VARCHAR(100)\",\n",
    "                description=\"Street corresponding to the address\",\n",
    "                lastModified=AuditStampClass(\n",
    "                    time=1640692800000, actor=\"urn:li:corpuser:ingestion\"\n",
    "                ),\n",
    "            ),\n",
    "            SchemaFieldClass(\n",
    "                fieldPath=\"last_sold_date\",\n",
    "                type=SchemaFieldDataTypeClass(type=DateTypeClass()),\n",
    "                nativeDataType=\"Date\",\n",
    "                description=\"Date of the last sale\",\n",
    "                jsonProps=\"test\",\n",
    "                created=AuditStampClass(\n",
    "                    time=1640692800000, actor=\"urn:li:corpuser:ingestion\"\n",
    "                ),\n",
    "                lastModified=AuditStampClass(\n",
    "                    time=1640692800000, actor=\"urn:li:corpuser:ingestion\"\n",
    "                ),\n",
    "            ),\n",
    "        ],\n",
    "    ),\n",
    ")\n",
    "\n",
    "# Create rest emitter\n",
    "rest_emitter = DatahubRestEmitter(gms_server=\"http://localhost:8080\")\n",
    "rest_emitter.emit(event)\n"
   ]
  },
  {
   "cell_type": "code",
   "execution_count": 18,
   "id": "f0b1b778",
   "metadata": {},
   "outputs": [],
   "source": [
    "import yaml\n",
    "\n",
    "with open(\"Contract.yaml\") as stream:\n",
    "     data = yaml.safe_load(stream)\n",
    "    "
   ]
  },
  {
   "cell_type": "code",
   "execution_count": 19,
   "id": "767ae387",
   "metadata": {},
   "outputs": [
    {
     "data": {
      "text/plain": [
       "'product'"
      ]
     },
     "execution_count": 19,
     "metadata": {},
     "output_type": "execute_result"
    }
   ],
   "source": [
    "data[\"dataset\"][\"environment\"]"
   ]
  },
  {
   "cell_type": "code",
   "execution_count": 22,
   "id": "560aad1b",
   "metadata": {},
   "outputs": [
    {
     "data": {
      "text/plain": [
       "'This is a long description that spans multiple lines. It is written in the folded style.  # mandatory \\n'"
      ]
     },
     "execution_count": 22,
     "metadata": {},
     "output_type": "execute_result"
    }
   ],
   "source": [
    "data[\"dataset\"][\"columns\"][\"columnName1\"][\"description\"]"
   ]
  },
  {
   "cell_type": "code",
   "execution_count": 7,
   "id": "6d5a6bc7",
   "metadata": {},
   "outputs": [
    {
     "name": "stdout",
     "output_type": "stream",
     "text": [
      "columnName1 False\n",
      "columnName2 False\n"
     ]
    }
   ],
   "source": [
    "for doc, value in data[\"dataset\"][\"columns\"].items():\n",
    "    print(doc , value[\"isNullable\"] )\n"
   ]
  },
  {
   "cell_type": "code",
   "execution_count": null,
   "id": "c53845d4",
   "metadata": {},
   "outputs": [],
   "source": []
  }
 ],
 "metadata": {
  "kernelspec": {
   "display_name": "Python 3 (ipykernel)",
   "language": "python",
   "name": "python3"
  },
  "language_info": {
   "codemirror_mode": {
    "name": "ipython",
    "version": 3
   },
   "file_extension": ".py",
   "mimetype": "text/x-python",
   "name": "python",
   "nbconvert_exporter": "python",
   "pygments_lexer": "ipython3",
   "version": "3.12.4"
  }
 },
 "nbformat": 4,
 "nbformat_minor": 5
}
