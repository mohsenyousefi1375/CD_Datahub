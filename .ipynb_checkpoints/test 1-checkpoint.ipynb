{
 "cells": [
  {
   "cell_type": "code",
   "execution_count": 36,
   "id": "60aad545",
   "metadata": {},
   "outputs": [
    {
     "name": "stdout",
     "output_type": "stream",
     "text": [
      "please enter num 0:1\n",
      "please enter num 1:2\n",
      "please enter num 2:3\n",
      "please enter num 3:4\n",
      "please enter num 4:5\n",
      "please enter num 5:6\n",
      "please enter num 6:7\n",
      "please enter num 7:8\n",
      "please enter num 8:9\n",
      "please enter num 9:0\n"
     ]
    }
   ],
   "source": [
    "input_list=[]\n",
    "for i in range(10):\n",
    "    x=int(input(f'please enter num {i}:'))\n",
    "    input_list.append(x)\n"
   ]
  },
  {
   "cell_type": "code",
   "execution_count": null,
   "id": "359646e4",
   "metadata": {},
   "outputs": [],
   "source": [
    "start =0 \n",
    "end = len(input_list)-1\n",
    "loop =True\n",
    "big_onotion=0\n",
    "search_item= int(input('please enter a number for search'))\n",
    "while (loop):\n",
    "    \n",
    "    middle =int((start+end)/2)\n",
    "    if (search_item == input_list[int(middle)]):\n",
    "        print(f'I found itttttttt. it is on {middle}')\n",
    "        loop=False\n",
    "    elif (search_item > input_list[int(middle)]):\n",
    "        start = middle\n",
    "    elif (search_item < input_list[int(middle)]):\n",
    "        end = middle\n",
    "    \n",
    "    if ((start+end)/2==0):\n",
    "        loop=False\n",
    "    big_onotion+=1\n",
    "print (f'big_onotion is {big_onotion}')"
   ]
  },
  {
   "cell_type": "code",
   "execution_count": 35,
   "id": "693f7daf",
   "metadata": {},
   "outputs": [
    {
     "data": {
      "text/plain": [
       "0.5"
      ]
     },
     "execution_count": 35,
     "metadata": {},
     "output_type": "execute_result"
    }
   ],
   "source": [
    "(0+1)/2"
   ]
  },
  {
   "cell_type": "code",
   "execution_count": 45,
   "id": "1d29bf64",
   "metadata": {},
   "outputs": [
    {
     "data": {
      "text/plain": [
       "6"
      ]
     },
     "execution_count": 45,
     "metadata": {},
     "output_type": "execute_result"
    }
   ],
   "source": [
    "start = len(input_list)\n",
    "start /=2\n",
    "input_list[int(start)]"
   ]
  },
  {
   "cell_type": "code",
   "execution_count": null,
   "id": "7934de02",
   "metadata": {},
   "outputs": [],
   "source": []
  }
 ],
 "metadata": {
  "kernelspec": {
   "display_name": "Python 3 (ipykernel)",
   "language": "python",
   "name": "python3"
  },
  "language_info": {
   "codemirror_mode": {
    "name": "ipython",
    "version": 3
   },
   "file_extension": ".py",
   "mimetype": "text/x-python",
   "name": "python",
   "nbconvert_exporter": "python",
   "pygments_lexer": "ipython3",
   "version": "3.10.9"
  }
 },
 "nbformat": 4,
 "nbformat_minor": 5
}
