{
 "cells": [
  {
   "cell_type": "code",
   "execution_count": 1,
   "metadata": {},
   "outputs": [],
   "source": [
    "import yaml\n",
    "\n",
    "with open(\"Contract.yaml\") as stream:\n",
    "     data = yaml.safe_load(stream)"
   ]
  },
  {
   "cell_type": "code",
   "execution_count": 2,
   "metadata": {},
   "outputs": [
    {
     "name": "stdout",
     "output_type": "stream",
     "text": [
      "www.test.com\n",
      "https://en.wikipedia.org/wiki/Computer\n"
     ]
    }
   ],
   "source": [
    "a = data[\"dataset\"][\"links\"]\n",
    "\n",
    "for key, value in a.items():\n",
    "    print(value[\"link\"])"
   ]
  },
  {
   "cell_type": "code",
   "execution_count": 3,
   "metadata": {},
   "outputs": [
    {
     "name": "stderr",
     "output_type": "stream",
     "text": [
      "INFO:Utils:Link www.test.com already exists and is identical, omitting write\n",
      "INFO:Utils:Link https://en.wikipedia.org/wiki/Computer already exists and is identical, omitting write\n"
     ]
    },
    {
     "name": "stdout",
     "output_type": "stream",
     "text": [
      "None\n"
     ]
    },
    {
     "name": "stderr",
     "output_type": "stream",
     "text": [
      "INFO:Utils:Documentation already exists and is identical, omitting write\n"
     ]
    }
   ],
   "source": [
    "from Utils import add_dataset\n",
    "\n",
    "add_dataset(data=data)"
   ]
  },
  {
   "cell_type": "code",
   "execution_count": 4,
   "metadata": {},
   "outputs": [
    {
     "ename": "NameError",
     "evalue": "name 'extract_fileds_from_yaml' is not defined",
     "output_type": "error",
     "traceback": [
      "\u001b[0;31m---------------------------------------------------------------------------\u001b[0m",
      "\u001b[0;31mNameError\u001b[0m                                 Traceback (most recent call last)",
      "Cell \u001b[0;32mIn[4], line 6\u001b[0m\n\u001b[1;32m      3\u001b[0m \u001b[38;5;28;01mfrom\u001b[39;00m \u001b[38;5;21;01mdatahub\u001b[39;00m\u001b[38;5;21;01m.\u001b[39;00m\u001b[38;5;21;01mmetadata\u001b[39;00m\u001b[38;5;21;01m.\u001b[39;00m\u001b[38;5;21;01mschema_classes\u001b[39;00m \u001b[38;5;28;01mimport\u001b[39;00m (    OwnershipTypeClass,)\n\u001b[1;32m      5\u001b[0m gms_server\u001b[38;5;241m=\u001b[39m\u001b[38;5;124m\"\u001b[39m\u001b[38;5;124mhttp://localhost:8080\u001b[39m\u001b[38;5;124m\"\u001b[39m\n\u001b[0;32m----> 6\u001b[0m fields \u001b[38;5;241m=\u001b[39m \u001b[43mextract_fileds_from_yaml\u001b[49m (data)\n\u001b[1;32m      7\u001b[0m schema_name \u001b[38;5;241m=\u001b[39m data[\u001b[38;5;124m\"\u001b[39m\u001b[38;5;124mdataset\u001b[39m\u001b[38;5;124m\"\u001b[39m][\u001b[38;5;124m\"\u001b[39m\u001b[38;5;124mschemaName\u001b[39m\u001b[38;5;124m\"\u001b[39m]\n\u001b[1;32m      8\u001b[0m platform \u001b[38;5;241m=\u001b[39m \u001b[38;5;28mstr\u001b[39m\u001b[38;5;241m.\u001b[39mlower(data[\u001b[38;5;124m\"\u001b[39m\u001b[38;5;124mdataset\u001b[39m\u001b[38;5;124m\"\u001b[39m][\u001b[38;5;124m\"\u001b[39m\u001b[38;5;124mplatform\u001b[39m\u001b[38;5;124m\"\u001b[39m])\n",
      "\u001b[0;31mNameError\u001b[0m: name 'extract_fileds_from_yaml' is not defined"
     ]
    }
   ],
   "source": [
    "from Utils import add_dataset_owner, add_datahub_group\n",
    "from datahub.emitter.mce_builder import make_data_platform_urn, make_dataset_urn, make_dataset_urn_with_platform_instance, make_user_urn, make_group_urn\n",
    "from datahub.metadata.schema_classes import (    OwnershipTypeClass,)\n",
    "\n",
    "gms_server=\"http://localhost:8080\"\n",
    "fields = extract_fileds_from_yaml (data)\n",
    "schema_name = data[\"dataset\"][\"schemaName\"]\n",
    "platform = str.lower(data[\"dataset\"][\"platform\"])\n",
    "dataset_name = data[\"dataset\"][\"schemaName\"] + '.' + data[\"dataset\"][\"tableName\"]\n",
    "description = data[\"dataset\"][\"description\"]\n",
    "links = data[\"dataset\"][\"links\"]\n",
    "environment = str.lower( data[\"dataset\"][\"environment\"] )\n",
    "platform_instance = str.replace(str.replace(str.replace(str.replace(str.replace( data[\"dataset\"][\"location\"], ',', '-'), ':', '-'), '(', ''), ')', ''), '.', '_')\n",
    "dataset_urn=make_dataset_urn_with_platform_instance(platform=platform, name=str.lower(dataset_name), env=environment, platform_instance= platform_instance)\n",
    "\n",
    "add_dataset_owner(None, 'user_team', dataset_urn, gms_server, OwnershipTypeClass.TECHNICAL_OWNER)\n",
    " "
   ]
  },
  {
   "cell_type": "code",
   "execution_count": 7,
   "metadata": {},
   "outputs": [
    {
     "name": "stderr",
     "output_type": "stream",
     "text": [
      "INFO:__main__:Upserted group urn:li:corpGroup:user@snapp.cab\n"
     ]
    }
   ],
   "source": [
    "add_datahub_group('user@snapp.cab', [], 'user_team', None, gms_server, None)"
   ]
  }
 ],
 "metadata": {
  "kernelspec": {
   "display_name": "datahub",
   "language": "python",
   "name": "python3"
  },
  "language_info": {
   "codemirror_mode": {
    "name": "ipython",
    "version": 3
   },
   "file_extension": ".py",
   "mimetype": "text/x-python",
   "name": "python",
   "nbconvert_exporter": "python",
   "pygments_lexer": "ipython3",
   "version": "3.12.4"
  }
 },
 "nbformat": 4,
 "nbformat_minor": 2
}
